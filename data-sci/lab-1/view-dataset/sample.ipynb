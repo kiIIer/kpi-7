{
 "cells": [
  {
   "metadata": {},
   "cell_type": "markdown",
   "source": "![title](title.png)",
   "id": "3ceaaeb601dfed9a"
  },
  {
   "metadata": {},
   "cell_type": "markdown",
   "source": [
    "# Лабораторна робота №1\n",
    "\n",
    "## Тема\n",
    "\n",
    "Підсумкові функції та відображення\n",
    "\n",
    "## Мета\n",
    "\n",
    "навчитися вибрати відповідні дані\n",
    "з DataFrame або Series, вибирати правильні дані з набору даних.\n",
    "\n",
    "## Автор\n",
    "\n",
    "Молчанов Михайло Валерійович, ІА-12, Варіант 16\n",
    "\n",
    "## Виконання\n",
    "\n"
   ],
   "id": "28744024c94a259d"
  },
  {
   "cell_type": "markdown",
   "id": "1734292f817c8df1",
   "metadata": {},
   "source": [
    "### Імпортуємо бібліотеки\n",
    "\n",
    "Заімпортуємо бібіліотеки, щоб їх просто далі використовувати"
   ]
  },
  {
   "cell_type": "code",
   "id": "ffb0016092071b0",
   "metadata": {
    "ExecuteTime": {
     "end_time": "2024-09-30T18:06:08.118540Z",
     "start_time": "2024-09-30T18:06:07.834577Z"
    }
   },
   "source": [
    "import numpy as np\n",
    "import pandas as pd"
   ],
   "outputs": [],
   "execution_count": 2
  },
  {
   "metadata": {},
   "cell_type": "markdown",
   "source": [
    "### Отримання дата сету\n",
    "\n",
    "Дата сет для 16-го варіанту не вдалося завантажити, оскільки він був видалений, тому було завантажено датасет для 15-го\n",
    "варіанту. "
   ],
   "id": "5fde2fc6cf9af04"
  },
  {
   "metadata": {
    "ExecuteTime": {
     "end_time": "2024-10-01T06:40:00.846947Z",
     "start_time": "2024-10-01T06:40:00.841154Z"
    }
   },
   "cell_type": "code",
   "source": [
    "# I placed data set in my data folder and added it to gitignore, so you can't see it, but it's there.\n",
    "file_path = 'data/Cancer_rate_by_countries.csv'\n",
    "\n",
    "# Let's load the data set.\n",
    "cancer_data = pd.read_csv(file_path)\n",
    "\n",
    "# And view some of its rows, so we have an idea what we are dealing with.\n",
    "cancer_data.head()"
   ],
   "id": "97357c91ce39eecd",
   "outputs": [
    {
     "data": {
      "text/plain": [
       "   Unnamed: 0  Rank        Country  Cancer_Rate\n",
       "0           0     1      Australia        468.0\n",
       "1           1     2    New Zealand        438.1\n",
       "2           2     3        Ireland        373.7\n",
       "3           3     4        Hungary        368.1\n",
       "4           4     5  United States        352.2"
      ],
      "text/html": [
       "<div>\n",
       "<style scoped>\n",
       "    .dataframe tbody tr th:only-of-type {\n",
       "        vertical-align: middle;\n",
       "    }\n",
       "\n",
       "    .dataframe tbody tr th {\n",
       "        vertical-align: top;\n",
       "    }\n",
       "\n",
       "    .dataframe thead th {\n",
       "        text-align: right;\n",
       "    }\n",
       "</style>\n",
       "<table border=\"1\" class=\"dataframe\">\n",
       "  <thead>\n",
       "    <tr style=\"text-align: right;\">\n",
       "      <th></th>\n",
       "      <th>Unnamed: 0</th>\n",
       "      <th>Rank</th>\n",
       "      <th>Country</th>\n",
       "      <th>Cancer_Rate</th>\n",
       "    </tr>\n",
       "  </thead>\n",
       "  <tbody>\n",
       "    <tr>\n",
       "      <th>0</th>\n",
       "      <td>0</td>\n",
       "      <td>1</td>\n",
       "      <td>Australia</td>\n",
       "      <td>468.0</td>\n",
       "    </tr>\n",
       "    <tr>\n",
       "      <th>1</th>\n",
       "      <td>1</td>\n",
       "      <td>2</td>\n",
       "      <td>New Zealand</td>\n",
       "      <td>438.1</td>\n",
       "    </tr>\n",
       "    <tr>\n",
       "      <th>2</th>\n",
       "      <td>2</td>\n",
       "      <td>3</td>\n",
       "      <td>Ireland</td>\n",
       "      <td>373.7</td>\n",
       "    </tr>\n",
       "    <tr>\n",
       "      <th>3</th>\n",
       "      <td>3</td>\n",
       "      <td>4</td>\n",
       "      <td>Hungary</td>\n",
       "      <td>368.1</td>\n",
       "    </tr>\n",
       "    <tr>\n",
       "      <th>4</th>\n",
       "      <td>4</td>\n",
       "      <td>5</td>\n",
       "      <td>United States</td>\n",
       "      <td>352.2</td>\n",
       "    </tr>\n",
       "  </tbody>\n",
       "</table>\n",
       "</div>"
      ]
     },
     "execution_count": 18,
     "metadata": {},
     "output_type": "execute_result"
    }
   ],
   "execution_count": 18
  },
  {
   "metadata": {},
   "cell_type": "markdown",
   "source": [
    "### Аналіз дата сету\n",
    "\n",
    "Дата сет було завантажено успішно, та тепер можна його детально проаналізувати. З першого вигляду видно, що у нас є наступні колонки:\n",
    "\n",
    "- Rank - рейтинг країн за рівнем захворювання\n",
    "- Country - назва країни\n",
    "- Cancer_Rate - рівень захворювання раком\n",
    "\n",
    "#### Describe\n",
    "Проаналізуємо ці данні детальніше за допомогою методу `describe()`. \n",
    "Метод `describe()` в бібліотеці Pandas автоматично генерує підсумкові статистичні дані для числових стовпців у наборі даних. Він надає основні показники, такі як:\n",
    "\n",
    "- Кількість непорожніх значень (count)\n",
    "- Середнє значення (mean)\n",
    "- Стандартне відхилення (std)\n",
    "- Мінімальне (min) та максимальне значення (max)\n",
    "- Квартилі (25%, 50%, 75%)\n",
    "\n",
    "Цей метод є дуже корисним для швидкого огляду основних характеристик датасету та виявлення можливих аномалій або тенденцій."
   ],
   "id": "186cb276cbb635df"
  },
  {
   "metadata": {
    "ExecuteTime": {
     "end_time": "2024-10-01T05:54:42.186957Z",
     "start_time": "2024-10-01T05:54:42.179203Z"
    }
   },
   "cell_type": "code",
   "source": [
    "# Загальний опис параметрів дата сету\n",
    "cancer_data.describe()"
   ],
   "id": "cc38a247a6129c30",
   "outputs": [
    {
     "data": {
      "text/plain": [
       "       Unnamed: 0      Rank  Cancer_Rate\n",
       "count    50.00000  50.00000    50.000000\n",
       "mean     24.50000  25.50000   294.082000\n",
       "std      14.57738  14.57738    50.026628\n",
       "min       0.00000   1.00000   233.600000\n",
       "25%      12.25000  13.25000   253.900000\n",
       "50%      24.50000  25.50000   286.500000\n",
       "75%      36.75000  37.75000   317.775000\n",
       "max      49.00000  50.00000   468.000000"
      ],
      "text/html": [
       "<div>\n",
       "<style scoped>\n",
       "    .dataframe tbody tr th:only-of-type {\n",
       "        vertical-align: middle;\n",
       "    }\n",
       "\n",
       "    .dataframe tbody tr th {\n",
       "        vertical-align: top;\n",
       "    }\n",
       "\n",
       "    .dataframe thead th {\n",
       "        text-align: right;\n",
       "    }\n",
       "</style>\n",
       "<table border=\"1\" class=\"dataframe\">\n",
       "  <thead>\n",
       "    <tr style=\"text-align: right;\">\n",
       "      <th></th>\n",
       "      <th>Unnamed: 0</th>\n",
       "      <th>Rank</th>\n",
       "      <th>Cancer_Rate</th>\n",
       "    </tr>\n",
       "  </thead>\n",
       "  <tbody>\n",
       "    <tr>\n",
       "      <th>count</th>\n",
       "      <td>50.00000</td>\n",
       "      <td>50.00000</td>\n",
       "      <td>50.000000</td>\n",
       "    </tr>\n",
       "    <tr>\n",
       "      <th>mean</th>\n",
       "      <td>24.50000</td>\n",
       "      <td>25.50000</td>\n",
       "      <td>294.082000</td>\n",
       "    </tr>\n",
       "    <tr>\n",
       "      <th>std</th>\n",
       "      <td>14.57738</td>\n",
       "      <td>14.57738</td>\n",
       "      <td>50.026628</td>\n",
       "    </tr>\n",
       "    <tr>\n",
       "      <th>min</th>\n",
       "      <td>0.00000</td>\n",
       "      <td>1.00000</td>\n",
       "      <td>233.600000</td>\n",
       "    </tr>\n",
       "    <tr>\n",
       "      <th>25%</th>\n",
       "      <td>12.25000</td>\n",
       "      <td>13.25000</td>\n",
       "      <td>253.900000</td>\n",
       "    </tr>\n",
       "    <tr>\n",
       "      <th>50%</th>\n",
       "      <td>24.50000</td>\n",
       "      <td>25.50000</td>\n",
       "      <td>286.500000</td>\n",
       "    </tr>\n",
       "    <tr>\n",
       "      <th>75%</th>\n",
       "      <td>36.75000</td>\n",
       "      <td>37.75000</td>\n",
       "      <td>317.775000</td>\n",
       "    </tr>\n",
       "    <tr>\n",
       "      <th>max</th>\n",
       "      <td>49.00000</td>\n",
       "      <td>50.00000</td>\n",
       "      <td>468.000000</td>\n",
       "    </tr>\n",
       "  </tbody>\n",
       "</table>\n",
       "</div>"
      ]
     },
     "execution_count": 6,
     "metadata": {},
     "output_type": "execute_result"
    }
   ],
   "execution_count": 6
  },
  {
   "metadata": {},
   "cell_type": "markdown",
   "source": [
    "На основі результатів методу `describe()`, можемо зробити наступні висновки:\n",
    "\n",
    "1. **Rank**:\n",
    "   - Маємо 50 значень (count), що підтверджує повноту даних.\n",
    "   - Середній рейтинг (mean) — 24.5, а стандартне відхилення (std) — 14.58.\n",
    "   - Мінімальне значення — 1, максимальне — 50, що підтверджує, що рейтинг є повним і послідовним.\n",
    "\n",
    "2. **Cancer_Rate**:\n",
    "   - Середній рівень захворюваності на рак — 294.08.\n",
    "   - Мінімальний показник — 233.6, а максимальний — 468.0.\n",
    "   - Значна варіативність рівня захворюваності, стандартне відхилення — 50.03, що вказує на великий розрив між країнами."
   ],
   "id": "a0500c42dc2b50bf"
  },
  {
   "metadata": {},
   "cell_type": "markdown",
   "source": [
    "#### Unique\n",
    "\n",
    "Метод `unique()` в Pandas використовується для виведення унікальних значень у стовпці даних. Він повертає масив усіх унікальних елементів, що містяться в обраному стовпці. Цей метод є корисним, коли потрібно дізнатися, які унікальні значення існують у категоріальному або числовому стовпці."
   ],
   "id": "441b3a636f0a0dae"
  },
  {
   "metadata": {
    "ExecuteTime": {
     "end_time": "2024-10-01T06:03:29.415351Z",
     "start_time": "2024-10-01T06:03:29.411854Z"
    }
   },
   "cell_type": "code",
   "source": [
    "# Унікальні країни у стовпці 'Country'\n",
    "unique_countries = cancer_data['Country'].unique()\n",
    "print(unique_countries)"
   ],
   "id": "2bccbe5a07a3ea29",
   "outputs": [
    {
     "name": "stdout",
     "output_type": "stream",
     "text": [
      "['Australia' 'New Zealand' 'Ireland' 'Hungary' 'United States' 'Belgium'\n",
      " 'France' 'Denmark' 'Norway' 'Netherlands' 'Canada'\n",
      " 'France (New Caledonia)' 'United Kingdom' 'South Korea' 'Germany'\n",
      " 'Switzerland' 'Luxembourg' 'Serbia' 'Slovenia' 'Latvia' 'Slovakia'\n",
      " 'Czech Republic' 'Sweden' 'Italy' 'Croatia' 'Lithuania' 'Estonia'\n",
      " 'Greece' 'Spain' 'Finland' 'Uruguay' 'Belarus' 'Portugal' 'Iceland'\n",
      " 'France (Guadeloupe)' 'United States (Puerto Rico)' 'Moldova' 'Poland'\n",
      " 'Cyprus' 'France (Martinique)' 'Malta' 'Singapore' 'Japan' 'Austria'\n",
      " 'Barbados' 'France (French Guiana)' 'Bulgaria' 'Lebanon'\n",
      " 'France (French Polynesia)' 'Israel']\n"
     ]
    }
   ],
   "execution_count": 7
  },
  {
   "metadata": {},
   "cell_type": "markdown",
   "source": "Аналізуючи унікальні значення в стовпці **Country**, можна побачити, що в наборі даних присутні 50 країн з унікальними назвами. Деякі країни мають кілька варіантів (наприклад, Франція з її заморськими територіями, такими як **France (Guadeloupe)**, **France (Martinique)**). Це свідчить про те, що різні регіони однієї країни можуть мати різні рівні захворюваності. Таким чином, унікальні значення допомагають ідентифікувати всі окремі регіони, що є важливим для подальшого аналізу.",
   "id": "52f8fffbb806cd83"
  },
  {
   "metadata": {},
   "cell_type": "markdown",
   "source": [
    "#### Mean\n",
    "\n",
    "Метод `mean()` в Pandas використовується для обчислення середнього значення числових стовпців. Він повертає середнє значення для всіх числових значень у вказаному стовпці. Це корисно для швидкого отримання середніх показників у наборі даних.\n"
   ],
   "id": "12f1fe23ff39432b"
  },
  {
   "metadata": {
    "ExecuteTime": {
     "end_time": "2024-10-01T06:07:07.187045Z",
     "start_time": "2024-10-01T06:07:07.184008Z"
    }
   },
   "cell_type": "code",
   "source": [
    "# Обчислюємо середнє значення рівня захворюваності на рак\n",
    "average_cancer_rate = cancer_data['Cancer_Rate'].mean()\n",
    "print(f\"Середнє значення рівня захворюваності на рак: {average_cancer_rate}\")"
   ],
   "id": "3e02773ef7431f86",
   "outputs": [
    {
     "name": "stdout",
     "output_type": "stream",
     "text": [
      "Середнє значення рівня захворюваності на рак: 294.08200000000005\n"
     ]
    }
   ],
   "execution_count": 8
  },
  {
   "metadata": {},
   "cell_type": "markdown",
   "source": "Ми вже бачили середнє значення рівня захворюваності на рак, коли використовували метод `describe()`, і воно дорівнювало 294.08. Проте, ось ще раз це значення, обчислене за допомогою методу `mean()`, щоб показати середнє явно.",
   "id": "4d7f023b401751a5"
  },
  {
   "metadata": {},
   "cell_type": "markdown",
   "source": [
    "#### Виконаємо уявне завдання\n",
    "Уявімо, що в нас не було стовпчику **Rank** і дані не були відсортовані. Метод `drop()` дозволяє видалити певний стовпчик або рядки з DataFrame. У нашому випадку ми видалили стовпчик **Rank**, щоб відновити його з нуля. Ми перемішали рядки за допомогою методу `sample()`, що випадково змінив порядок. Потім за допомогою методу `sort_values()` відсортували дані за стовпцем **Cancer_Rate** у порядку спадання. Після цього додали новий стовпчик **Rank**, який нумерує рядки."
   ],
   "id": "412fcefae703794c"
  },
  {
   "metadata": {
    "ExecuteTime": {
     "end_time": "2024-10-01T06:24:23.387042Z",
     "start_time": "2024-10-01T06:24:23.380659Z"
    }
   },
   "cell_type": "code",
   "source": [
    "# Видаляємо стовпчик Rank\n",
    "data_without_rank = cancer_data.drop(columns=['Rank'])\n",
    "shuffled_data = data_without_rank.sample(frac=1).reset_index(drop=True)\n",
    "\n",
    "shuffled_data.head()"
   ],
   "id": "9ae6f84ac8a142bf",
   "outputs": [
    {
     "data": {
      "text/plain": [
       "   Unnamed: 0   Country  Cancer_Rate\n",
       "0          18  Slovenia        304.9\n",
       "1           6    France        344.1\n",
       "2          40     Malta        249.4\n",
       "3          26   Estonia        283.3\n",
       "4          47   Lebanon        242.8"
      ],
      "text/html": [
       "<div>\n",
       "<style scoped>\n",
       "    .dataframe tbody tr th:only-of-type {\n",
       "        vertical-align: middle;\n",
       "    }\n",
       "\n",
       "    .dataframe tbody tr th {\n",
       "        vertical-align: top;\n",
       "    }\n",
       "\n",
       "    .dataframe thead th {\n",
       "        text-align: right;\n",
       "    }\n",
       "</style>\n",
       "<table border=\"1\" class=\"dataframe\">\n",
       "  <thead>\n",
       "    <tr style=\"text-align: right;\">\n",
       "      <th></th>\n",
       "      <th>Unnamed: 0</th>\n",
       "      <th>Country</th>\n",
       "      <th>Cancer_Rate</th>\n",
       "    </tr>\n",
       "  </thead>\n",
       "  <tbody>\n",
       "    <tr>\n",
       "      <th>0</th>\n",
       "      <td>18</td>\n",
       "      <td>Slovenia</td>\n",
       "      <td>304.9</td>\n",
       "    </tr>\n",
       "    <tr>\n",
       "      <th>1</th>\n",
       "      <td>6</td>\n",
       "      <td>France</td>\n",
       "      <td>344.1</td>\n",
       "    </tr>\n",
       "    <tr>\n",
       "      <th>2</th>\n",
       "      <td>40</td>\n",
       "      <td>Malta</td>\n",
       "      <td>249.4</td>\n",
       "    </tr>\n",
       "    <tr>\n",
       "      <th>3</th>\n",
       "      <td>26</td>\n",
       "      <td>Estonia</td>\n",
       "      <td>283.3</td>\n",
       "    </tr>\n",
       "    <tr>\n",
       "      <th>4</th>\n",
       "      <td>47</td>\n",
       "      <td>Lebanon</td>\n",
       "      <td>242.8</td>\n",
       "    </tr>\n",
       "  </tbody>\n",
       "</table>\n",
       "</div>"
      ]
     },
     "execution_count": 10,
     "metadata": {},
     "output_type": "execute_result"
    }
   ],
   "execution_count": 10
  },
  {
   "metadata": {},
   "cell_type": "markdown",
   "source": "Як видно, в нас більше нема рейтингу, та дані ідуть не за порядком",
   "id": "28befb6faa3c2657"
  },
  {
   "metadata": {
    "ExecuteTime": {
     "end_time": "2024-10-01T06:24:53.547129Z",
     "start_time": "2024-10-01T06:24:53.542005Z"
    }
   },
   "cell_type": "code",
   "source": [
    "sorted_data = shuffled_data.sort_values(by='Cancer_Rate', ascending=False).reset_index(drop=True)\n",
    "\n",
    "\n",
    "sorted_data['Rank'] = range(1, len(sorted_data) + 1)\n",
    "\n",
    "# Переглядаємо результат\n",
    "sorted_data.head()"
   ],
   "id": "5d484ac3d8e45259",
   "outputs": [
    {
     "data": {
      "text/plain": [
       "   Unnamed: 0        Country  Cancer_Rate  Rank\n",
       "0           0      Australia        468.0     1\n",
       "1           1    New Zealand        438.1     2\n",
       "2           2        Ireland        373.7     3\n",
       "3           3        Hungary        368.1     4\n",
       "4           4  United States        352.2     5"
      ],
      "text/html": [
       "<div>\n",
       "<style scoped>\n",
       "    .dataframe tbody tr th:only-of-type {\n",
       "        vertical-align: middle;\n",
       "    }\n",
       "\n",
       "    .dataframe tbody tr th {\n",
       "        vertical-align: top;\n",
       "    }\n",
       "\n",
       "    .dataframe thead th {\n",
       "        text-align: right;\n",
       "    }\n",
       "</style>\n",
       "<table border=\"1\" class=\"dataframe\">\n",
       "  <thead>\n",
       "    <tr style=\"text-align: right;\">\n",
       "      <th></th>\n",
       "      <th>Unnamed: 0</th>\n",
       "      <th>Country</th>\n",
       "      <th>Cancer_Rate</th>\n",
       "      <th>Rank</th>\n",
       "    </tr>\n",
       "  </thead>\n",
       "  <tbody>\n",
       "    <tr>\n",
       "      <th>0</th>\n",
       "      <td>0</td>\n",
       "      <td>Australia</td>\n",
       "      <td>468.0</td>\n",
       "      <td>1</td>\n",
       "    </tr>\n",
       "    <tr>\n",
       "      <th>1</th>\n",
       "      <td>1</td>\n",
       "      <td>New Zealand</td>\n",
       "      <td>438.1</td>\n",
       "      <td>2</td>\n",
       "    </tr>\n",
       "    <tr>\n",
       "      <th>2</th>\n",
       "      <td>2</td>\n",
       "      <td>Ireland</td>\n",
       "      <td>373.7</td>\n",
       "      <td>3</td>\n",
       "    </tr>\n",
       "    <tr>\n",
       "      <th>3</th>\n",
       "      <td>3</td>\n",
       "      <td>Hungary</td>\n",
       "      <td>368.1</td>\n",
       "      <td>4</td>\n",
       "    </tr>\n",
       "    <tr>\n",
       "      <th>4</th>\n",
       "      <td>4</td>\n",
       "      <td>United States</td>\n",
       "      <td>352.2</td>\n",
       "      <td>5</td>\n",
       "    </tr>\n",
       "  </tbody>\n",
       "</table>\n",
       "</div>"
      ]
     },
     "execution_count": 12,
     "metadata": {},
     "output_type": "execute_result"
    }
   ],
   "execution_count": 12
  },
  {
   "metadata": {},
   "cell_type": "markdown",
   "source": "Колонка Rank тепер знову є, та ми змогли б зробити, навіть коли її не було спочатку.",
   "id": "cb0034b17f459e1a"
  },
  {
   "metadata": {},
   "cell_type": "markdown",
   "source": [
    "#### Apply\n",
    "\n",
    "Метод `apply()` використовується для застосування користувацької функції до кожного елемента або рядка DataFrame або Series. Він дозволяє виконувати перетворення над даними, які потребують логіки, яку не можна реалізувати за допомогою вбудованих функцій. \n",
    "\n",
    "Ви можете передати `apply()` власну функцію, яка виконує конкретне завдання — наприклад, категоризацію значень. Це дуже потужний інструмент для кастомної обробки даних.\n",
    "\n",
    "Тепер застосуємо його для категоризації рівня захворюваності на рак."
   ],
   "id": "d3b6a94e5dd381b"
  },
  {
   "metadata": {
    "ExecuteTime": {
     "end_time": "2024-10-01T06:30:14.170815Z",
     "start_time": "2024-10-01T06:30:14.166075Z"
    }
   },
   "cell_type": "code",
   "source": [
    "# Функція для категоризації рівня захворюваності\n",
    "def categorize_cancer_rate(rate):\n",
    "    if rate > 350:\n",
    "        return 'High'\n",
    "    elif rate > 300:\n",
    "        return 'Medium'\n",
    "    else:\n",
    "        return 'Low'\n",
    "\n",
    "# Застосуємо функцію до стовпця 'Cancer_Rate'\n",
    "cancer_data['Cancer_Rate_Category'] = cancer_data['Cancer_Rate'].apply(categorize_cancer_rate)\n",
    "\n",
    "# Переглянемо результат\n",
    "first_row = cancer_data.iloc[0]\n",
    "middle_row = cancer_data.iloc[10]\n",
    "last_row = cancer_data.iloc[-1]\n",
    "\n",
    "# Виведемо результати\n",
    "print(\"Перший рядок:\\n\", first_row)\n",
    "print(\"\\nСередній рядок:\\n\", middle_row)\n",
    "print(\"\\nОстанній рядок:\\n\", last_row)\n"
   ],
   "id": "64b516f721b9b1b2",
   "outputs": [
    {
     "name": "stdout",
     "output_type": "stream",
     "text": [
      "Перший рядок:\n",
      " Unnamed: 0                      0\n",
      "Rank                            1\n",
      "Country                 Australia\n",
      "Cancer_Rate                 468.0\n",
      "Cancer_Rate_Category         High\n",
      "Name: 0, dtype: object\n",
      "\n",
      "Середній рядок:\n",
      " Unnamed: 0                  10\n",
      "Rank                        11\n",
      "Country                 Canada\n",
      "Cancer_Rate              334.0\n",
      "Cancer_Rate_Category    Medium\n",
      "Name: 10, dtype: object\n",
      "\n",
      "Останній рядок:\n",
      " Unnamed: 0                  49\n",
      "Rank                        50\n",
      "Country                 Israel\n",
      "Cancer_Rate              233.6\n",
      "Cancer_Rate_Category       Low\n",
      "Name: 49, dtype: object\n"
     ]
    }
   ],
   "execution_count": 16
  },
  {
   "metadata": {},
   "cell_type": "markdown",
   "source": "Як бачимо, в нас тепер є класи за рівнем захворюваності.",
   "id": "bcfa4f7585eb05af"
  },
  {
   "metadata": {},
   "cell_type": "markdown",
   "source": [
    "#### value_counts\n",
    "\n",
    "Для підрахунку унікальних значень у новому стовпці **Cancer_Rate_Category**, можемо використовувати метод `value_counts()` для підрахунку кожної категорії.\n",
    "\n",
    "Цей код виведе кількість унікальних значень (категорій) у стовпці, тобто скільки разів кожна категорія (High, Medium, Low) зустрічається в наборі даних."
   ],
   "id": "e0680417233308e2"
  },
  {
   "metadata": {
    "ExecuteTime": {
     "end_time": "2024-10-01T06:37:27.096977Z",
     "start_time": "2024-10-01T06:37:27.092975Z"
    }
   },
   "cell_type": "code",
   "source": [
    "# Підраховуємо унікальні значення в новому стовпчику 'Cancer_Rate_Category'\n",
    "category_counts = cancer_data['Cancer_Rate_Category'].value_counts()\n",
    "\n",
    "# Виводимо результат\n",
    "print(category_counts)"
   ],
   "id": "be980c5c61429e46",
   "outputs": [
    {
     "name": "stdout",
     "output_type": "stream",
     "text": [
      "Cancer_Rate_Category\n",
      "Low       30\n",
      "Medium    15\n",
      "High       5\n",
      "Name: count, dtype: int64\n"
     ]
    }
   ],
   "execution_count": 17
  },
  {
   "metadata": {},
   "cell_type": "markdown",
   "source": "Як бачимо, за нашою класифікацією, в нас 5 країн з високим рівнем та 15 країн з середнім рівнем.",
   "id": "201033ae5219e5d6"
  },
  {
   "metadata": {},
   "cell_type": "markdown",
   "source": [
    "## Висновок\n",
    "\n",
    "На цій лабораторній роботі я навчився вибирати відповідні дані з DataFrame, та вибирати правильні дані з набору даних. Також я вирішив кілька простих завдань за допомогою вивчених методів, та налаштував jupyter notebook для цього."
   ],
   "id": "848f089a67f43770"
  }
 ],
 "metadata": {
  "kernelspec": {
   "display_name": "Python 3 (ipykernel)",
   "language": "python",
   "name": "python3"
  },
  "language_info": {
   "codemirror_mode": {
    "name": "ipython",
    "version": 3
   },
   "file_extension": ".py",
   "mimetype": "text/x-python",
   "name": "python",
   "nbconvert_exporter": "python",
   "pygments_lexer": "ipython3",
   "version": "3.9.7"
  }
 },
 "nbformat": 4,
 "nbformat_minor": 5
}
