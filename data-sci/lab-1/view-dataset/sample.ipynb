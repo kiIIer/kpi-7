{
 "cells": [
  {
   "cell_type": "code",
   "id": "ffb0016092071b0",
   "metadata": {
    "ExecuteTime": {
     "end_time": "2024-10-18T12:00:10.905237Z",
     "start_time": "2024-10-18T12:00:10.150322Z"
    }
   },
   "source": [
    "import numpy as np\n",
    "import pandas as pd\n",
    "import nbconvert"
   ],
   "outputs": [],
   "execution_count": 1
  },
  {
   "cell_type": "code",
   "id": "97357c91ce39eecd",
   "metadata": {
    "ExecuteTime": {
     "end_time": "2024-10-18T12:00:10.934045Z",
     "start_time": "2024-10-18T12:00:10.911958Z"
    }
   },
   "source": [
    "file_path = 'data/Cancer_rate_by_countries.csv'\n",
    "\n",
    "cancer_data = pd.read_csv(file_path)\n",
    "\n",
    "cancer_data.head()"
   ],
   "outputs": [
    {
     "data": {
      "text/plain": [
       "   Unnamed: 0  Rank        Country  Cancer_Rate\n",
       "0           0     1      Australia        468.0\n",
       "1           1     2    New Zealand        438.1\n",
       "2           2     3        Ireland        373.7\n",
       "3           3     4        Hungary        368.1\n",
       "4           4     5  United States        352.2"
      ],
      "text/html": [
       "<div>\n",
       "<style scoped>\n",
       "    .dataframe tbody tr th:only-of-type {\n",
       "        vertical-align: middle;\n",
       "    }\n",
       "\n",
       "    .dataframe tbody tr th {\n",
       "        vertical-align: top;\n",
       "    }\n",
       "\n",
       "    .dataframe thead th {\n",
       "        text-align: right;\n",
       "    }\n",
       "</style>\n",
       "<table border=\"1\" class=\"dataframe\">\n",
       "  <thead>\n",
       "    <tr style=\"text-align: right;\">\n",
       "      <th></th>\n",
       "      <th>Unnamed: 0</th>\n",
       "      <th>Rank</th>\n",
       "      <th>Country</th>\n",
       "      <th>Cancer_Rate</th>\n",
       "    </tr>\n",
       "  </thead>\n",
       "  <tbody>\n",
       "    <tr>\n",
       "      <th>0</th>\n",
       "      <td>0</td>\n",
       "      <td>1</td>\n",
       "      <td>Australia</td>\n",
       "      <td>468.0</td>\n",
       "    </tr>\n",
       "    <tr>\n",
       "      <th>1</th>\n",
       "      <td>1</td>\n",
       "      <td>2</td>\n",
       "      <td>New Zealand</td>\n",
       "      <td>438.1</td>\n",
       "    </tr>\n",
       "    <tr>\n",
       "      <th>2</th>\n",
       "      <td>2</td>\n",
       "      <td>3</td>\n",
       "      <td>Ireland</td>\n",
       "      <td>373.7</td>\n",
       "    </tr>\n",
       "    <tr>\n",
       "      <th>3</th>\n",
       "      <td>3</td>\n",
       "      <td>4</td>\n",
       "      <td>Hungary</td>\n",
       "      <td>368.1</td>\n",
       "    </tr>\n",
       "    <tr>\n",
       "      <th>4</th>\n",
       "      <td>4</td>\n",
       "      <td>5</td>\n",
       "      <td>United States</td>\n",
       "      <td>352.2</td>\n",
       "    </tr>\n",
       "  </tbody>\n",
       "</table>\n",
       "</div>"
      ]
     },
     "execution_count": 2,
     "metadata": {},
     "output_type": "execute_result"
    }
   ],
   "execution_count": 2
  },
  {
   "cell_type": "code",
   "id": "cc38a247a6129c30",
   "metadata": {
    "ExecuteTime": {
     "end_time": "2024-10-18T12:00:10.995427Z",
     "start_time": "2024-10-18T12:00:10.988761Z"
    }
   },
   "source": "cancer_data.describe()",
   "outputs": [
    {
     "data": {
      "text/plain": [
       "       Unnamed: 0      Rank  Cancer_Rate\n",
       "count    50.00000  50.00000    50.000000\n",
       "mean     24.50000  25.50000   294.082000\n",
       "std      14.57738  14.57738    50.026628\n",
       "min       0.00000   1.00000   233.600000\n",
       "25%      12.25000  13.25000   253.900000\n",
       "50%      24.50000  25.50000   286.500000\n",
       "75%      36.75000  37.75000   317.775000\n",
       "max      49.00000  50.00000   468.000000"
      ],
      "text/html": [
       "<div>\n",
       "<style scoped>\n",
       "    .dataframe tbody tr th:only-of-type {\n",
       "        vertical-align: middle;\n",
       "    }\n",
       "\n",
       "    .dataframe tbody tr th {\n",
       "        vertical-align: top;\n",
       "    }\n",
       "\n",
       "    .dataframe thead th {\n",
       "        text-align: right;\n",
       "    }\n",
       "</style>\n",
       "<table border=\"1\" class=\"dataframe\">\n",
       "  <thead>\n",
       "    <tr style=\"text-align: right;\">\n",
       "      <th></th>\n",
       "      <th>Unnamed: 0</th>\n",
       "      <th>Rank</th>\n",
       "      <th>Cancer_Rate</th>\n",
       "    </tr>\n",
       "  </thead>\n",
       "  <tbody>\n",
       "    <tr>\n",
       "      <th>count</th>\n",
       "      <td>50.00000</td>\n",
       "      <td>50.00000</td>\n",
       "      <td>50.000000</td>\n",
       "    </tr>\n",
       "    <tr>\n",
       "      <th>mean</th>\n",
       "      <td>24.50000</td>\n",
       "      <td>25.50000</td>\n",
       "      <td>294.082000</td>\n",
       "    </tr>\n",
       "    <tr>\n",
       "      <th>std</th>\n",
       "      <td>14.57738</td>\n",
       "      <td>14.57738</td>\n",
       "      <td>50.026628</td>\n",
       "    </tr>\n",
       "    <tr>\n",
       "      <th>min</th>\n",
       "      <td>0.00000</td>\n",
       "      <td>1.00000</td>\n",
       "      <td>233.600000</td>\n",
       "    </tr>\n",
       "    <tr>\n",
       "      <th>25%</th>\n",
       "      <td>12.25000</td>\n",
       "      <td>13.25000</td>\n",
       "      <td>253.900000</td>\n",
       "    </tr>\n",
       "    <tr>\n",
       "      <th>50%</th>\n",
       "      <td>24.50000</td>\n",
       "      <td>25.50000</td>\n",
       "      <td>286.500000</td>\n",
       "    </tr>\n",
       "    <tr>\n",
       "      <th>75%</th>\n",
       "      <td>36.75000</td>\n",
       "      <td>37.75000</td>\n",
       "      <td>317.775000</td>\n",
       "    </tr>\n",
       "    <tr>\n",
       "      <th>max</th>\n",
       "      <td>49.00000</td>\n",
       "      <td>50.00000</td>\n",
       "      <td>468.000000</td>\n",
       "    </tr>\n",
       "  </tbody>\n",
       "</table>\n",
       "</div>"
      ]
     },
     "execution_count": 3,
     "metadata": {},
     "output_type": "execute_result"
    }
   ],
   "execution_count": 3
  },
  {
   "cell_type": "code",
   "id": "2bccbe5a07a3ea29",
   "metadata": {
    "ExecuteTime": {
     "end_time": "2024-10-18T12:00:11.027983Z",
     "start_time": "2024-10-18T12:00:11.025083Z"
    }
   },
   "source": [
    "unique_countries = cancer_data['Country'].unique()\n",
    "print(unique_countries)"
   ],
   "outputs": [
    {
     "name": "stdout",
     "output_type": "stream",
     "text": [
      "['Australia' 'New Zealand' 'Ireland' 'Hungary' 'United States' 'Belgium'\n",
      " 'France' 'Denmark' 'Norway' 'Netherlands' 'Canada'\n",
      " 'France (New Caledonia)' 'United Kingdom' 'South Korea' 'Germany'\n",
      " 'Switzerland' 'Luxembourg' 'Serbia' 'Slovenia' 'Latvia' 'Slovakia'\n",
      " 'Czech Republic' 'Sweden' 'Italy' 'Croatia' 'Lithuania' 'Estonia'\n",
      " 'Greece' 'Spain' 'Finland' 'Uruguay' 'Belarus' 'Portugal' 'Iceland'\n",
      " 'France (Guadeloupe)' 'United States (Puerto Rico)' 'Moldova' 'Poland'\n",
      " 'Cyprus' 'France (Martinique)' 'Malta' 'Singapore' 'Japan' 'Austria'\n",
      " 'Barbados' 'France (French Guiana)' 'Bulgaria' 'Lebanon'\n",
      " 'France (French Polynesia)' 'Israel']\n"
     ]
    }
   ],
   "execution_count": 4
  },
  {
   "cell_type": "code",
   "id": "3e02773ef7431f86",
   "metadata": {
    "ExecuteTime": {
     "end_time": "2024-10-18T12:00:11.179477Z",
     "start_time": "2024-10-18T12:00:11.177124Z"
    }
   },
   "source": [
    "average_cancer_rate = cancer_data['Cancer_Rate'].mean()\n",
    "print(f\"Середнє значення рівня захворюваності на рак: {average_cancer_rate}\")"
   ],
   "outputs": [
    {
     "name": "stdout",
     "output_type": "stream",
     "text": [
      "Середнє значення рівня захворюваності на рак: 294.08200000000005\n"
     ]
    }
   ],
   "execution_count": 5
  },
  {
   "cell_type": "code",
   "id": "9ae6f84ac8a142bf",
   "metadata": {
    "ExecuteTime": {
     "end_time": "2024-10-18T12:00:11.263208Z",
     "start_time": "2024-10-18T12:00:11.258347Z"
    }
   },
   "source": [
    "data_without_rank = cancer_data.drop(columns=['Rank'])\n",
    "shuffled_data = data_without_rank.sample(frac=1).reset_index(drop=True)\n",
    "\n",
    "shuffled_data.head()"
   ],
   "outputs": [
    {
     "data": {
      "text/plain": [
       "   Unnamed: 0        Country  Cancer_Rate\n",
       "0          17         Serbia        307.9\n",
       "1           0      Australia        468.0\n",
       "2          37         Poland        253.8\n",
       "3           4  United States        352.2\n",
       "4          42          Japan        248.0"
      ],
      "text/html": [
       "<div>\n",
       "<style scoped>\n",
       "    .dataframe tbody tr th:only-of-type {\n",
       "        vertical-align: middle;\n",
       "    }\n",
       "\n",
       "    .dataframe tbody tr th {\n",
       "        vertical-align: top;\n",
       "    }\n",
       "\n",
       "    .dataframe thead th {\n",
       "        text-align: right;\n",
       "    }\n",
       "</style>\n",
       "<table border=\"1\" class=\"dataframe\">\n",
       "  <thead>\n",
       "    <tr style=\"text-align: right;\">\n",
       "      <th></th>\n",
       "      <th>Unnamed: 0</th>\n",
       "      <th>Country</th>\n",
       "      <th>Cancer_Rate</th>\n",
       "    </tr>\n",
       "  </thead>\n",
       "  <tbody>\n",
       "    <tr>\n",
       "      <th>0</th>\n",
       "      <td>17</td>\n",
       "      <td>Serbia</td>\n",
       "      <td>307.9</td>\n",
       "    </tr>\n",
       "    <tr>\n",
       "      <th>1</th>\n",
       "      <td>0</td>\n",
       "      <td>Australia</td>\n",
       "      <td>468.0</td>\n",
       "    </tr>\n",
       "    <tr>\n",
       "      <th>2</th>\n",
       "      <td>37</td>\n",
       "      <td>Poland</td>\n",
       "      <td>253.8</td>\n",
       "    </tr>\n",
       "    <tr>\n",
       "      <th>3</th>\n",
       "      <td>4</td>\n",
       "      <td>United States</td>\n",
       "      <td>352.2</td>\n",
       "    </tr>\n",
       "    <tr>\n",
       "      <th>4</th>\n",
       "      <td>42</td>\n",
       "      <td>Japan</td>\n",
       "      <td>248.0</td>\n",
       "    </tr>\n",
       "  </tbody>\n",
       "</table>\n",
       "</div>"
      ]
     },
     "execution_count": 6,
     "metadata": {},
     "output_type": "execute_result"
    }
   ],
   "execution_count": 6
  },
  {
   "cell_type": "code",
   "id": "5d484ac3d8e45259",
   "metadata": {
    "ExecuteTime": {
     "end_time": "2024-10-18T12:00:11.316720Z",
     "start_time": "2024-10-18T12:00:11.312266Z"
    }
   },
   "source": [
    "sorted_data = shuffled_data.sort_values(by='Cancer_Rate', ascending=False).reset_index(drop=True)\n",
    "\n",
    "\n",
    "sorted_data['Rank'] = range(1, len(sorted_data) + 1)\n",
    "\n",
    "sorted_data.head()"
   ],
   "outputs": [
    {
     "data": {
      "text/plain": [
       "   Unnamed: 0        Country  Cancer_Rate  Rank\n",
       "0           0      Australia        468.0     1\n",
       "1           1    New Zealand        438.1     2\n",
       "2           2        Ireland        373.7     3\n",
       "3           3        Hungary        368.1     4\n",
       "4           4  United States        352.2     5"
      ],
      "text/html": [
       "<div>\n",
       "<style scoped>\n",
       "    .dataframe tbody tr th:only-of-type {\n",
       "        vertical-align: middle;\n",
       "    }\n",
       "\n",
       "    .dataframe tbody tr th {\n",
       "        vertical-align: top;\n",
       "    }\n",
       "\n",
       "    .dataframe thead th {\n",
       "        text-align: right;\n",
       "    }\n",
       "</style>\n",
       "<table border=\"1\" class=\"dataframe\">\n",
       "  <thead>\n",
       "    <tr style=\"text-align: right;\">\n",
       "      <th></th>\n",
       "      <th>Unnamed: 0</th>\n",
       "      <th>Country</th>\n",
       "      <th>Cancer_Rate</th>\n",
       "      <th>Rank</th>\n",
       "    </tr>\n",
       "  </thead>\n",
       "  <tbody>\n",
       "    <tr>\n",
       "      <th>0</th>\n",
       "      <td>0</td>\n",
       "      <td>Australia</td>\n",
       "      <td>468.0</td>\n",
       "      <td>1</td>\n",
       "    </tr>\n",
       "    <tr>\n",
       "      <th>1</th>\n",
       "      <td>1</td>\n",
       "      <td>New Zealand</td>\n",
       "      <td>438.1</td>\n",
       "      <td>2</td>\n",
       "    </tr>\n",
       "    <tr>\n",
       "      <th>2</th>\n",
       "      <td>2</td>\n",
       "      <td>Ireland</td>\n",
       "      <td>373.7</td>\n",
       "      <td>3</td>\n",
       "    </tr>\n",
       "    <tr>\n",
       "      <th>3</th>\n",
       "      <td>3</td>\n",
       "      <td>Hungary</td>\n",
       "      <td>368.1</td>\n",
       "      <td>4</td>\n",
       "    </tr>\n",
       "    <tr>\n",
       "      <th>4</th>\n",
       "      <td>4</td>\n",
       "      <td>United States</td>\n",
       "      <td>352.2</td>\n",
       "      <td>5</td>\n",
       "    </tr>\n",
       "  </tbody>\n",
       "</table>\n",
       "</div>"
      ]
     },
     "execution_count": 7,
     "metadata": {},
     "output_type": "execute_result"
    }
   ],
   "execution_count": 7
  },
  {
   "cell_type": "code",
   "id": "64b516f721b9b1b2",
   "metadata": {
    "ExecuteTime": {
     "end_time": "2024-10-18T12:00:11.359840Z",
     "start_time": "2024-10-18T12:00:11.356275Z"
    }
   },
   "source": [
    "def categorize_cancer_rate(rate):\n",
    "    if rate > 350:\n",
    "        return 'High'\n",
    "    elif rate > 300:\n",
    "        return 'Medium'\n",
    "    else:\n",
    "        return 'Low'\n",
    "\n",
    "cancer_data['Cancer_Rate_Category'] = cancer_data['Cancer_Rate'].apply(categorize_cancer_rate)\n",
    "\n",
    "first_row = cancer_data.iloc[0]\n",
    "middle_row = cancer_data.iloc[10]\n",
    "last_row = cancer_data.iloc[-1]\n",
    "\n",
    "print(\"Перший рядок:\\n\", first_row)\n",
    "print(\"\\nСередній рядок:\\n\", middle_row)\n",
    "print(\"\\nОстанній рядок:\\n\", last_row)\n"
   ],
   "outputs": [
    {
     "name": "stdout",
     "output_type": "stream",
     "text": [
      "Перший рядок:\n",
      " Unnamed: 0                      0\n",
      "Rank                            1\n",
      "Country                 Australia\n",
      "Cancer_Rate                 468.0\n",
      "Cancer_Rate_Category         High\n",
      "Name: 0, dtype: object\n",
      "\n",
      "Середній рядок:\n",
      " Unnamed: 0                  10\n",
      "Rank                        11\n",
      "Country                 Canada\n",
      "Cancer_Rate              334.0\n",
      "Cancer_Rate_Category    Medium\n",
      "Name: 10, dtype: object\n",
      "\n",
      "Останній рядок:\n",
      " Unnamed: 0                  49\n",
      "Rank                        50\n",
      "Country                 Israel\n",
      "Cancer_Rate              233.6\n",
      "Cancer_Rate_Category       Low\n",
      "Name: 49, dtype: object\n"
     ]
    }
   ],
   "execution_count": 8
  },
  {
   "cell_type": "code",
   "id": "be980c5c61429e46",
   "metadata": {
    "ExecuteTime": {
     "end_time": "2024-10-18T12:00:11.428908Z",
     "start_time": "2024-10-18T12:00:11.426381Z"
    }
   },
   "source": [
    "category_counts = cancer_data['Cancer_Rate_Category'].value_counts()\n",
    "\n",
    "print(category_counts)"
   ],
   "outputs": [
    {
     "name": "stdout",
     "output_type": "stream",
     "text": [
      "Cancer_Rate_Category\n",
      "Low       30\n",
      "Medium    15\n",
      "High       5\n",
      "Name: count, dtype: int64\n"
     ]
    }
   ],
   "execution_count": 9
  }
 ],
 "metadata": {
  "kernelspec": {
   "display_name": "Python 3 (ipykernel)",
   "language": "python",
   "name": "python3"
  },
  "language_info": {
   "codemirror_mode": {
    "name": "ipython",
    "version": 3
   },
   "file_extension": ".py",
   "mimetype": "text/x-python",
   "name": "python",
   "nbconvert_exporter": "python",
   "pygments_lexer": "ipython3",
   "version": "3.12.4"
  }
 },
 "nbformat": 4,
 "nbformat_minor": 5
}
