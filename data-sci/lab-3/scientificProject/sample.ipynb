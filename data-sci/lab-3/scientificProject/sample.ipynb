{
 "cells": [
  {
   "metadata": {
    "ExecuteTime": {
     "end_time": "2024-11-19T21:19:32.544992Z",
     "start_time": "2024-11-19T21:19:32.388373Z"
    }
   },
   "cell_type": "code",
   "source": [
    "# Import necessary libraries\n",
    "import pandas as pd\n",
    "import numpy as np\n",
    "\n",
    "# Load the main weather dataset with low_memory set to False\n",
    "weather_data = pd.read_csv(\"data/Summary_of_Weather.csv\", low_memory=False)\n",
    "\n",
    "# Load the weather station locations dataset\n",
    "stations_data = pd.read_csv(\"data/Weather_Station_Locations.csv\", low_memory=False)\n",
    "\n",
    "# Set the random seed for reproducibility\n",
    "np.random.seed(0)\n",
    "\n",
    "# Display the first few rows of the weather dataset\n",
    "weather_data.head()\n"
   ],
   "id": "fbc121e30a2defb3",
   "outputs": [
    {
     "data": {
      "text/plain": [
       "     STA      Date Precip  WindGustSpd    MaxTemp    MinTemp   MeanTemp  \\\n",
       "0  10001  1942-7-1  1.016          NaN  25.555556  22.222222  23.888889   \n",
       "1  10001  1942-7-2      0          NaN  28.888889  21.666667  25.555556   \n",
       "2  10001  1942-7-3   2.54          NaN  26.111111  22.222222  24.444444   \n",
       "3  10001  1942-7-4   2.54          NaN  26.666667  22.222222  24.444444   \n",
       "4  10001  1942-7-5      0          NaN  26.666667  21.666667  24.444444   \n",
       "\n",
       "  Snowfall PoorWeather  YR  ...  FB  FTI ITH  PGT  TSHDSBRSGF  SD3  RHX  RHN  \\\n",
       "0        0         NaN  42  ... NaN  NaN NaN  NaN         NaN  NaN  NaN  NaN   \n",
       "1        0         NaN  42  ... NaN  NaN NaN  NaN         NaN  NaN  NaN  NaN   \n",
       "2        0         NaN  42  ... NaN  NaN NaN  NaN         NaN  NaN  NaN  NaN   \n",
       "3        0         NaN  42  ... NaN  NaN NaN  NaN         NaN  NaN  NaN  NaN   \n",
       "4        0         NaN  42  ... NaN  NaN NaN  NaN         NaN  NaN  NaN  NaN   \n",
       "\n",
       "  RVG  WTE  \n",
       "0 NaN  NaN  \n",
       "1 NaN  NaN  \n",
       "2 NaN  NaN  \n",
       "3 NaN  NaN  \n",
       "4 NaN  NaN  \n",
       "\n",
       "[5 rows x 31 columns]"
      ],
      "text/html": [
       "<div>\n",
       "<style scoped>\n",
       "    .dataframe tbody tr th:only-of-type {\n",
       "        vertical-align: middle;\n",
       "    }\n",
       "\n",
       "    .dataframe tbody tr th {\n",
       "        vertical-align: top;\n",
       "    }\n",
       "\n",
       "    .dataframe thead th {\n",
       "        text-align: right;\n",
       "    }\n",
       "</style>\n",
       "<table border=\"1\" class=\"dataframe\">\n",
       "  <thead>\n",
       "    <tr style=\"text-align: right;\">\n",
       "      <th></th>\n",
       "      <th>STA</th>\n",
       "      <th>Date</th>\n",
       "      <th>Precip</th>\n",
       "      <th>WindGustSpd</th>\n",
       "      <th>MaxTemp</th>\n",
       "      <th>MinTemp</th>\n",
       "      <th>MeanTemp</th>\n",
       "      <th>Snowfall</th>\n",
       "      <th>PoorWeather</th>\n",
       "      <th>YR</th>\n",
       "      <th>...</th>\n",
       "      <th>FB</th>\n",
       "      <th>FTI</th>\n",
       "      <th>ITH</th>\n",
       "      <th>PGT</th>\n",
       "      <th>TSHDSBRSGF</th>\n",
       "      <th>SD3</th>\n",
       "      <th>RHX</th>\n",
       "      <th>RHN</th>\n",
       "      <th>RVG</th>\n",
       "      <th>WTE</th>\n",
       "    </tr>\n",
       "  </thead>\n",
       "  <tbody>\n",
       "    <tr>\n",
       "      <th>0</th>\n",
       "      <td>10001</td>\n",
       "      <td>1942-7-1</td>\n",
       "      <td>1.016</td>\n",
       "      <td>NaN</td>\n",
       "      <td>25.555556</td>\n",
       "      <td>22.222222</td>\n",
       "      <td>23.888889</td>\n",
       "      <td>0</td>\n",
       "      <td>NaN</td>\n",
       "      <td>42</td>\n",
       "      <td>...</td>\n",
       "      <td>NaN</td>\n",
       "      <td>NaN</td>\n",
       "      <td>NaN</td>\n",
       "      <td>NaN</td>\n",
       "      <td>NaN</td>\n",
       "      <td>NaN</td>\n",
       "      <td>NaN</td>\n",
       "      <td>NaN</td>\n",
       "      <td>NaN</td>\n",
       "      <td>NaN</td>\n",
       "    </tr>\n",
       "    <tr>\n",
       "      <th>1</th>\n",
       "      <td>10001</td>\n",
       "      <td>1942-7-2</td>\n",
       "      <td>0</td>\n",
       "      <td>NaN</td>\n",
       "      <td>28.888889</td>\n",
       "      <td>21.666667</td>\n",
       "      <td>25.555556</td>\n",
       "      <td>0</td>\n",
       "      <td>NaN</td>\n",
       "      <td>42</td>\n",
       "      <td>...</td>\n",
       "      <td>NaN</td>\n",
       "      <td>NaN</td>\n",
       "      <td>NaN</td>\n",
       "      <td>NaN</td>\n",
       "      <td>NaN</td>\n",
       "      <td>NaN</td>\n",
       "      <td>NaN</td>\n",
       "      <td>NaN</td>\n",
       "      <td>NaN</td>\n",
       "      <td>NaN</td>\n",
       "    </tr>\n",
       "    <tr>\n",
       "      <th>2</th>\n",
       "      <td>10001</td>\n",
       "      <td>1942-7-3</td>\n",
       "      <td>2.54</td>\n",
       "      <td>NaN</td>\n",
       "      <td>26.111111</td>\n",
       "      <td>22.222222</td>\n",
       "      <td>24.444444</td>\n",
       "      <td>0</td>\n",
       "      <td>NaN</td>\n",
       "      <td>42</td>\n",
       "      <td>...</td>\n",
       "      <td>NaN</td>\n",
       "      <td>NaN</td>\n",
       "      <td>NaN</td>\n",
       "      <td>NaN</td>\n",
       "      <td>NaN</td>\n",
       "      <td>NaN</td>\n",
       "      <td>NaN</td>\n",
       "      <td>NaN</td>\n",
       "      <td>NaN</td>\n",
       "      <td>NaN</td>\n",
       "    </tr>\n",
       "    <tr>\n",
       "      <th>3</th>\n",
       "      <td>10001</td>\n",
       "      <td>1942-7-4</td>\n",
       "      <td>2.54</td>\n",
       "      <td>NaN</td>\n",
       "      <td>26.666667</td>\n",
       "      <td>22.222222</td>\n",
       "      <td>24.444444</td>\n",
       "      <td>0</td>\n",
       "      <td>NaN</td>\n",
       "      <td>42</td>\n",
       "      <td>...</td>\n",
       "      <td>NaN</td>\n",
       "      <td>NaN</td>\n",
       "      <td>NaN</td>\n",
       "      <td>NaN</td>\n",
       "      <td>NaN</td>\n",
       "      <td>NaN</td>\n",
       "      <td>NaN</td>\n",
       "      <td>NaN</td>\n",
       "      <td>NaN</td>\n",
       "      <td>NaN</td>\n",
       "    </tr>\n",
       "    <tr>\n",
       "      <th>4</th>\n",
       "      <td>10001</td>\n",
       "      <td>1942-7-5</td>\n",
       "      <td>0</td>\n",
       "      <td>NaN</td>\n",
       "      <td>26.666667</td>\n",
       "      <td>21.666667</td>\n",
       "      <td>24.444444</td>\n",
       "      <td>0</td>\n",
       "      <td>NaN</td>\n",
       "      <td>42</td>\n",
       "      <td>...</td>\n",
       "      <td>NaN</td>\n",
       "      <td>NaN</td>\n",
       "      <td>NaN</td>\n",
       "      <td>NaN</td>\n",
       "      <td>NaN</td>\n",
       "      <td>NaN</td>\n",
       "      <td>NaN</td>\n",
       "      <td>NaN</td>\n",
       "      <td>NaN</td>\n",
       "      <td>NaN</td>\n",
       "    </tr>\n",
       "  </tbody>\n",
       "</table>\n",
       "<p>5 rows × 31 columns</p>\n",
       "</div>"
      ]
     },
     "execution_count": 112,
     "metadata": {},
     "output_type": "execute_result"
    }
   ],
   "execution_count": 112
  },
  {
   "metadata": {
    "ExecuteTime": {
     "end_time": "2024-11-19T21:19:32.599334Z",
     "start_time": "2024-11-19T21:19:32.579852Z"
    }
   },
   "cell_type": "code",
   "source": [
    "# Calculate the number of missing values in each column\n",
    "missing_values_count = weather_data.isnull().sum()\n",
    "\n",
    "# Display the number of missing values in the first 10 columns\n",
    "missing_values_count[0:10]\n"
   ],
   "id": "a3ed512a84a297ff",
   "outputs": [
    {
     "data": {
      "text/plain": [
       "STA                 0\n",
       "Date                0\n",
       "Precip              0\n",
       "WindGustSpd    118508\n",
       "MaxTemp             0\n",
       "MinTemp             0\n",
       "MeanTemp            0\n",
       "Snowfall         1163\n",
       "PoorWeather     84803\n",
       "YR                  0\n",
       "dtype: int64"
      ]
     },
     "execution_count": 113,
     "metadata": {},
     "output_type": "execute_result"
    }
   ],
   "execution_count": 113
  },
  {
   "metadata": {
    "ExecuteTime": {
     "end_time": "2024-11-19T21:19:32.633883Z",
     "start_time": "2024-11-19T21:19:32.631989Z"
    }
   },
   "cell_type": "code",
   "source": [
    "# Calculate the total number of cells in the dataset\n",
    "total_cells = np.product(weather_data.shape)\n",
    "\n",
    "# Calculate the total number of missing values\n",
    "total_missing = missing_values_count.sum()\n",
    "\n",
    "# Calculate the percentage of missing data\n",
    "percent_missing = (total_missing / total_cells) * 100\n",
    "print(percent_missing)\n"
   ],
   "id": "a9696dab50748fc0",
   "outputs": [
    {
     "name": "stdout",
     "output_type": "stream",
     "text": [
      "49.70351521852237\n"
     ]
    }
   ],
   "execution_count": 114
  },
  {
   "metadata": {
    "ExecuteTime": {
     "end_time": "2024-11-19T21:19:32.664488Z",
     "start_time": "2024-11-19T21:19:32.662356Z"
    }
   },
   "cell_type": "code",
   "source": [
    "# Display the number of missing values in a specific column\n",
    "missing_values_count['Snowfall']"
   ],
   "id": "55acb358b0b329fa",
   "outputs": [
    {
     "data": {
      "text/plain": [
       "1163"
      ]
     },
     "execution_count": 115,
     "metadata": {},
     "output_type": "execute_result"
    }
   ],
   "execution_count": 115
  },
  {
   "metadata": {
    "ExecuteTime": {
     "end_time": "2024-11-19T21:19:32.730071Z",
     "start_time": "2024-11-19T21:19:32.709222Z"
    }
   },
   "cell_type": "code",
   "source": [
    "# Remove all rows that contain missing values\n",
    "weather_data_cleaned_rows = weather_data.dropna()\n",
    "weather_data_cleaned_rows"
   ],
   "id": "15cfc96e26196a4e",
   "outputs": [
    {
     "data": {
      "text/plain": [
       "Empty DataFrame\n",
       "Columns: [STA, Date, Precip, WindGustSpd, MaxTemp, MinTemp, MeanTemp, Snowfall, PoorWeather, YR, MO, DA, PRCP, DR, SPD, MAX, MIN, MEA, SNF, SND, FT, FB, FTI, ITH, PGT, TSHDSBRSGF, SD3, RHX, RHN, RVG, WTE]\n",
       "Index: []\n",
       "\n",
       "[0 rows x 31 columns]"
      ],
      "text/html": [
       "<div>\n",
       "<style scoped>\n",
       "    .dataframe tbody tr th:only-of-type {\n",
       "        vertical-align: middle;\n",
       "    }\n",
       "\n",
       "    .dataframe tbody tr th {\n",
       "        vertical-align: top;\n",
       "    }\n",
       "\n",
       "    .dataframe thead th {\n",
       "        text-align: right;\n",
       "    }\n",
       "</style>\n",
       "<table border=\"1\" class=\"dataframe\">\n",
       "  <thead>\n",
       "    <tr style=\"text-align: right;\">\n",
       "      <th></th>\n",
       "      <th>STA</th>\n",
       "      <th>Date</th>\n",
       "      <th>Precip</th>\n",
       "      <th>WindGustSpd</th>\n",
       "      <th>MaxTemp</th>\n",
       "      <th>MinTemp</th>\n",
       "      <th>MeanTemp</th>\n",
       "      <th>Snowfall</th>\n",
       "      <th>PoorWeather</th>\n",
       "      <th>YR</th>\n",
       "      <th>...</th>\n",
       "      <th>FB</th>\n",
       "      <th>FTI</th>\n",
       "      <th>ITH</th>\n",
       "      <th>PGT</th>\n",
       "      <th>TSHDSBRSGF</th>\n",
       "      <th>SD3</th>\n",
       "      <th>RHX</th>\n",
       "      <th>RHN</th>\n",
       "      <th>RVG</th>\n",
       "      <th>WTE</th>\n",
       "    </tr>\n",
       "  </thead>\n",
       "  <tbody>\n",
       "  </tbody>\n",
       "</table>\n",
       "<p>0 rows × 31 columns</p>\n",
       "</div>"
      ]
     },
     "execution_count": 116,
     "metadata": {},
     "output_type": "execute_result"
    }
   ],
   "execution_count": 116
  },
  {
   "metadata": {
    "ExecuteTime": {
     "end_time": "2024-11-19T21:19:32.816286Z",
     "start_time": "2024-11-19T21:19:32.795380Z"
    }
   },
   "cell_type": "code",
   "source": [
    "# Remove all columns that contain missing values\n",
    "weather_data_cleaned_columns = weather_data.dropna(axis=1)\n",
    "weather_data_cleaned_columns.head()"
   ],
   "id": "52a132abc5eec916",
   "outputs": [
    {
     "data": {
      "text/plain": [
       "     STA      Date Precip    MaxTemp    MinTemp   MeanTemp  YR  MO  DA\n",
       "0  10001  1942-7-1  1.016  25.555556  22.222222  23.888889  42   7   1\n",
       "1  10001  1942-7-2      0  28.888889  21.666667  25.555556  42   7   2\n",
       "2  10001  1942-7-3   2.54  26.111111  22.222222  24.444444  42   7   3\n",
       "3  10001  1942-7-4   2.54  26.666667  22.222222  24.444444  42   7   4\n",
       "4  10001  1942-7-5      0  26.666667  21.666667  24.444444  42   7   5"
      ],
      "text/html": [
       "<div>\n",
       "<style scoped>\n",
       "    .dataframe tbody tr th:only-of-type {\n",
       "        vertical-align: middle;\n",
       "    }\n",
       "\n",
       "    .dataframe tbody tr th {\n",
       "        vertical-align: top;\n",
       "    }\n",
       "\n",
       "    .dataframe thead th {\n",
       "        text-align: right;\n",
       "    }\n",
       "</style>\n",
       "<table border=\"1\" class=\"dataframe\">\n",
       "  <thead>\n",
       "    <tr style=\"text-align: right;\">\n",
       "      <th></th>\n",
       "      <th>STA</th>\n",
       "      <th>Date</th>\n",
       "      <th>Precip</th>\n",
       "      <th>MaxTemp</th>\n",
       "      <th>MinTemp</th>\n",
       "      <th>MeanTemp</th>\n",
       "      <th>YR</th>\n",
       "      <th>MO</th>\n",
       "      <th>DA</th>\n",
       "    </tr>\n",
       "  </thead>\n",
       "  <tbody>\n",
       "    <tr>\n",
       "      <th>0</th>\n",
       "      <td>10001</td>\n",
       "      <td>1942-7-1</td>\n",
       "      <td>1.016</td>\n",
       "      <td>25.555556</td>\n",
       "      <td>22.222222</td>\n",
       "      <td>23.888889</td>\n",
       "      <td>42</td>\n",
       "      <td>7</td>\n",
       "      <td>1</td>\n",
       "    </tr>\n",
       "    <tr>\n",
       "      <th>1</th>\n",
       "      <td>10001</td>\n",
       "      <td>1942-7-2</td>\n",
       "      <td>0</td>\n",
       "      <td>28.888889</td>\n",
       "      <td>21.666667</td>\n",
       "      <td>25.555556</td>\n",
       "      <td>42</td>\n",
       "      <td>7</td>\n",
       "      <td>2</td>\n",
       "    </tr>\n",
       "    <tr>\n",
       "      <th>2</th>\n",
       "      <td>10001</td>\n",
       "      <td>1942-7-3</td>\n",
       "      <td>2.54</td>\n",
       "      <td>26.111111</td>\n",
       "      <td>22.222222</td>\n",
       "      <td>24.444444</td>\n",
       "      <td>42</td>\n",
       "      <td>7</td>\n",
       "      <td>3</td>\n",
       "    </tr>\n",
       "    <tr>\n",
       "      <th>3</th>\n",
       "      <td>10001</td>\n",
       "      <td>1942-7-4</td>\n",
       "      <td>2.54</td>\n",
       "      <td>26.666667</td>\n",
       "      <td>22.222222</td>\n",
       "      <td>24.444444</td>\n",
       "      <td>42</td>\n",
       "      <td>7</td>\n",
       "      <td>4</td>\n",
       "    </tr>\n",
       "    <tr>\n",
       "      <th>4</th>\n",
       "      <td>10001</td>\n",
       "      <td>1942-7-5</td>\n",
       "      <td>0</td>\n",
       "      <td>26.666667</td>\n",
       "      <td>21.666667</td>\n",
       "      <td>24.444444</td>\n",
       "      <td>42</td>\n",
       "      <td>7</td>\n",
       "      <td>5</td>\n",
       "    </tr>\n",
       "  </tbody>\n",
       "</table>\n",
       "</div>"
      ]
     },
     "execution_count": 117,
     "metadata": {},
     "output_type": "execute_result"
    }
   ],
   "execution_count": 117
  },
  {
   "metadata": {
    "ExecuteTime": {
     "end_time": "2024-11-19T21:19:32.844186Z",
     "start_time": "2024-11-19T21:19:32.842270Z"
    }
   },
   "cell_type": "code",
   "source": [
    "# Display the number of columns before and after removing columns with missing values\n",
    "print(\"Number of columns before removal: %d\" % weather_data.shape[1])\n",
    "print(\"Number of columns after removal: %d\" % weather_data_cleaned_columns.shape[1])"
   ],
   "id": "43ac03a21e4ecc68",
   "outputs": [
    {
     "name": "stdout",
     "output_type": "stream",
     "text": [
      "Number of columns before removal: 31\n",
      "Number of columns after removal: 9\n"
     ]
    }
   ],
   "execution_count": 118
  },
  {
   "metadata": {
    "ExecuteTime": {
     "end_time": "2024-11-19T21:19:32.925720Z",
     "start_time": "2024-11-19T21:19:32.875221Z"
    }
   },
   "cell_type": "code",
   "source": [
    "# Fill missing values with 0\n",
    "weather_data_filled_zeros = weather_data.fillna(0)\n",
    "\n",
    "# Check if missing values are filled with 0\n",
    "print(\"Missing values after filling with 0:\")\n",
    "print(weather_data_filled_zeros.isnull().sum())\n"
   ],
   "id": "92510bc6d5aa1faf",
   "outputs": [
    {
     "name": "stdout",
     "output_type": "stream",
     "text": [
      "Missing values after filling with 0:\n",
      "STA            0\n",
      "Date           0\n",
      "Precip         0\n",
      "WindGustSpd    0\n",
      "MaxTemp        0\n",
      "MinTemp        0\n",
      "MeanTemp       0\n",
      "Snowfall       0\n",
      "PoorWeather    0\n",
      "YR             0\n",
      "MO             0\n",
      "DA             0\n",
      "PRCP           0\n",
      "DR             0\n",
      "SPD            0\n",
      "MAX            0\n",
      "MIN            0\n",
      "MEA            0\n",
      "SNF            0\n",
      "SND            0\n",
      "FT             0\n",
      "FB             0\n",
      "FTI            0\n",
      "ITH            0\n",
      "PGT            0\n",
      "TSHDSBRSGF     0\n",
      "SD3            0\n",
      "RHX            0\n",
      "RHN            0\n",
      "RVG            0\n",
      "WTE            0\n",
      "dtype: int64\n"
     ]
    }
   ],
   "execution_count": 119
  },
  {
   "metadata": {
    "ExecuteTime": {
     "end_time": "2024-11-19T21:19:32.937792Z",
     "start_time": "2024-11-19T21:19:32.933653Z"
    }
   },
   "cell_type": "code",
   "source": [
    "# Select a subset of data based on specific columns\n",
    "subset_weather_data = weather_data.loc[:, 'MaxTemp':'MinTemp'].head()\n",
    "subset_weather_data"
   ],
   "id": "3440f4f58005cd6e",
   "outputs": [
    {
     "data": {
      "text/plain": [
       "     MaxTemp    MinTemp\n",
       "0  25.555556  22.222222\n",
       "1  28.888889  21.666667\n",
       "2  26.111111  22.222222\n",
       "3  26.666667  22.222222\n",
       "4  26.666667  21.666667"
      ],
      "text/html": [
       "<div>\n",
       "<style scoped>\n",
       "    .dataframe tbody tr th:only-of-type {\n",
       "        vertical-align: middle;\n",
       "    }\n",
       "\n",
       "    .dataframe tbody tr th {\n",
       "        vertical-align: top;\n",
       "    }\n",
       "\n",
       "    .dataframe thead th {\n",
       "        text-align: right;\n",
       "    }\n",
       "</style>\n",
       "<table border=\"1\" class=\"dataframe\">\n",
       "  <thead>\n",
       "    <tr style=\"text-align: right;\">\n",
       "      <th></th>\n",
       "      <th>MaxTemp</th>\n",
       "      <th>MinTemp</th>\n",
       "    </tr>\n",
       "  </thead>\n",
       "  <tbody>\n",
       "    <tr>\n",
       "      <th>0</th>\n",
       "      <td>25.555556</td>\n",
       "      <td>22.222222</td>\n",
       "    </tr>\n",
       "    <tr>\n",
       "      <th>1</th>\n",
       "      <td>28.888889</td>\n",
       "      <td>21.666667</td>\n",
       "    </tr>\n",
       "    <tr>\n",
       "      <th>2</th>\n",
       "      <td>26.111111</td>\n",
       "      <td>22.222222</td>\n",
       "    </tr>\n",
       "    <tr>\n",
       "      <th>3</th>\n",
       "      <td>26.666667</td>\n",
       "      <td>22.222222</td>\n",
       "    </tr>\n",
       "    <tr>\n",
       "      <th>4</th>\n",
       "      <td>26.666667</td>\n",
       "      <td>21.666667</td>\n",
       "    </tr>\n",
       "  </tbody>\n",
       "</table>\n",
       "</div>"
      ]
     },
     "execution_count": 120,
     "metadata": {},
     "output_type": "execute_result"
    }
   ],
   "execution_count": 120
  },
  {
   "metadata": {
    "ExecuteTime": {
     "end_time": "2024-11-19T21:19:32.996035Z",
     "start_time": "2024-11-19T21:19:32.993358Z"
    }
   },
   "cell_type": "code",
   "source": [
    "# Introduce a NaN value in the first row for demonstration\n",
    "subset_weather_data.iloc[0, 0] = np.nan\n",
    "print(\"Original subset with missing values:\")\n",
    "print(subset_weather_data)"
   ],
   "id": "10c94e0141482794",
   "outputs": [
    {
     "name": "stdout",
     "output_type": "stream",
     "text": [
      "Original subset with missing values:\n",
      "     MaxTemp    MinTemp\n",
      "0        NaN  22.222222\n",
      "1  28.888889  21.666667\n",
      "2  26.111111  22.222222\n",
      "3  26.666667  22.222222\n",
      "4  26.666667  21.666667\n"
     ]
    }
   ],
   "execution_count": 121
  },
  {
   "metadata": {
    "ExecuteTime": {
     "end_time": "2024-11-19T21:19:33.020647Z",
     "start_time": "2024-11-19T21:19:33.018083Z"
    }
   },
   "cell_type": "code",
   "source": [
    "# Fill missing values with the number 100\n",
    "subset_weather_data_filled_100 = subset_weather_data.fillna(100)\n",
    "\n",
    "# Check if missing values in the subset are filled with 100\n",
    "print(\"Subset after filling missing values with 100:\")\n",
    "print(subset_weather_data_filled_100)\n"
   ],
   "id": "e2e31ec53277a384",
   "outputs": [
    {
     "name": "stdout",
     "output_type": "stream",
     "text": [
      "Subset after filling missing values with 100:\n",
      "      MaxTemp    MinTemp\n",
      "0  100.000000  22.222222\n",
      "1   28.888889  21.666667\n",
      "2   26.111111  22.222222\n",
      "3   26.666667  22.222222\n",
      "4   26.666667  21.666667\n"
     ]
    }
   ],
   "execution_count": 122
  },
  {
   "metadata": {
    "ExecuteTime": {
     "end_time": "2024-11-19T21:19:33.041542Z",
     "start_time": "2024-11-19T21:19:33.038430Z"
    }
   },
   "cell_type": "code",
   "source": [
    "# Introduce NaN values in the subset for demonstration\n",
    "subset_weather_data.iloc[0, 0] = np.nan\n",
    "subset_weather_data.iloc[1, 1] = np.nan\n",
    "print(\"Original subset with missing values introduced:\")\n",
    "print(subset_weather_data)\n",
    "\n",
    "# Fill missing values using backfill method directly\n",
    "subset_weather_data_filled_bfill = subset_weather_data.bfill()\n",
    "print(\"Subset after filling missing values using backfill:\")\n",
    "print(subset_weather_data_filled_bfill)\n"
   ],
   "id": "8a3583da79b50ef6",
   "outputs": [
    {
     "name": "stdout",
     "output_type": "stream",
     "text": [
      "Original subset with missing values introduced:\n",
      "     MaxTemp    MinTemp\n",
      "0        NaN  22.222222\n",
      "1  28.888889        NaN\n",
      "2  26.111111  22.222222\n",
      "3  26.666667  22.222222\n",
      "4  26.666667  21.666667\n",
      "Subset after filling missing values using backfill:\n",
      "     MaxTemp    MinTemp\n",
      "0  28.888889  22.222222\n",
      "1  28.888889  22.222222\n",
      "2  26.111111  22.222222\n",
      "3  26.666667  22.222222\n",
      "4  26.666667  21.666667\n"
     ]
    }
   ],
   "execution_count": 123
  },
  {
   "metadata": {
    "ExecuteTime": {
     "end_time": "2024-11-19T21:19:33.183164Z",
     "start_time": "2024-11-19T21:19:33.178525Z"
    }
   },
   "cell_type": "code",
   "source": [
    "# Select a new subset and introduce NaN values for specific columns\n",
    "subset_weather_data_2 = weather_data.loc[:, 'MaxTemp':'MinTemp'].head()\n",
    "subset_weather_data_2.iloc[0, 0] = np.nan\n",
    "subset_weather_data_2.iloc[2, 1] = np.nan\n",
    "print(\"Original subset with missing values introduced:\")\n",
    "print(subset_weather_data_2)\n",
    "\n",
    "# Fill missing values only in the 'MaxTemp' column with a specific value (e.g., 999)\n",
    "subset_weather_data_2['MaxTemp'] = subset_weather_data_2['MaxTemp'].fillna(999)\n",
    "print(\"Subset after selectively filling 'MaxTemp' with 999:\")\n",
    "print(subset_weather_data_2)\n"
   ],
   "id": "5d4220d56d259650",
   "outputs": [
    {
     "name": "stdout",
     "output_type": "stream",
     "text": [
      "Original subset with missing values introduced:\n",
      "     MaxTemp    MinTemp\n",
      "0        NaN  22.222222\n",
      "1  28.888889  21.666667\n",
      "2  26.111111        NaN\n",
      "3  26.666667  22.222222\n",
      "4  26.666667  21.666667\n",
      "Subset after selectively filling 'MaxTemp' with 999:\n",
      "      MaxTemp    MinTemp\n",
      "0  999.000000  22.222222\n",
      "1   28.888889  21.666667\n",
      "2   26.111111        NaN\n",
      "3   26.666667  22.222222\n",
      "4   26.666667  21.666667\n"
     ]
    }
   ],
   "execution_count": 124
  }
 ],
 "metadata": {
  "kernelspec": {
   "display_name": "Python 3",
   "language": "python",
   "name": "python3"
  },
  "language_info": {
   "codemirror_mode": {
    "name": "ipython",
    "version": 2
   },
   "file_extension": ".py",
   "mimetype": "text/x-python",
   "name": "python",
   "nbconvert_exporter": "python",
   "pygments_lexer": "ipython2",
   "version": "2.7.6"
  }
 },
 "nbformat": 4,
 "nbformat_minor": 5
}
