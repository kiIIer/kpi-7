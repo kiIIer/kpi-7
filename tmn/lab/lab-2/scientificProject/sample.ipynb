{
 "cells": [
  {
   "metadata": {},
   "cell_type": "markdown",
   "source": [
    "# Лабораторна робота №1\n",
    "\n",
    "## Тема\n",
    "\n",
    "Функції помилок (втрат) у машинному навчанні\n",
    "\n",
    "## Мета\n",
    "\n",
    "отримати знання і критерії застосування основних використовуваних у\n",
    "сучасному машинному навчанні функцій помилок (функцій втрат).\n",
    "\n",
    "## Автор\n",
    "\n",
    "Молчанов Михайло, ІА-12\n",
    "\n",
    "## Виконання"
   ],
   "id": "670e8692ee90267c"
  },
  {
   "metadata": {
    "ExecuteTime": {
     "end_time": "2024-11-22T18:11:56.522515Z",
     "start_time": "2024-11-22T18:11:56.520394Z"
    }
   },
   "cell_type": "code",
   "source": [
    "import pandas as pd\n",
    "import numpy as np\n",
    "import matplotlib.pyplot as plt\n",
    "from sklearn.model_selection import train_test_split\n",
    "from sklearn.linear_model import LogisticRegression\n",
    "from sklearn.metrics import accuracy_score, log_loss\n",
    "from sklearn.ensemble import AdaBoostClassifier\n",
    "from sklearn.metrics import classification_report\n"
   ],
   "id": "4b96eecbcb06ec06",
   "outputs": [],
   "execution_count": 71
  },
  {
   "metadata": {},
   "cell_type": "markdown",
   "source": [
    "### Завантаження та попередній огляд даних\n",
    "У цьому блоці коду ми завантажуємо датасет, використовуючи шлях `data/data_banknote_authentication.txt`. Для зручності аналізу створюємо назви колонок, які відповідають чотирьом характеристикам (`feature1`, `feature2`, `feature3`, `feature4`) і цільовій змінній (`label`). Потім використовуємо функцію `head()` для виведення перших кількох рядків, щоб перевірити, чи дані завантажились коректно."
   ],
   "id": "633dba71be7ed3dc"
  },
  {
   "metadata": {
    "ExecuteTime": {
     "end_time": "2024-11-22T18:11:56.539665Z",
     "start_time": "2024-11-22T18:11:56.533597Z"
    }
   },
   "cell_type": "code",
   "source": [
    "# Load the data\n",
    "data_path = 'data/data_banknote_authentication.txt'\n",
    "columns = ['feature1', 'feature2', 'feature3', 'feature4', 'label']\n",
    "data = pd.read_csv(data_path, header=None, names=columns)\n",
    "\n",
    "# Display the first few rows of the dataset\n",
    "data.head()\n"
   ],
   "id": "80d5a2914341f534",
   "outputs": [
    {
     "data": {
      "text/plain": [
       "   feature1  feature2  feature3  feature4  label\n",
       "0   3.62160    8.6661   -2.8073  -0.44699      0\n",
       "1   4.54590    8.1674   -2.4586  -1.46210      0\n",
       "2   3.86600   -2.6383    1.9242   0.10645      0\n",
       "3   3.45660    9.5228   -4.0112  -3.59440      0\n",
       "4   0.32924   -4.4552    4.5718  -0.98880      0"
      ],
      "text/html": [
       "<div>\n",
       "<style scoped>\n",
       "    .dataframe tbody tr th:only-of-type {\n",
       "        vertical-align: middle;\n",
       "    }\n",
       "\n",
       "    .dataframe tbody tr th {\n",
       "        vertical-align: top;\n",
       "    }\n",
       "\n",
       "    .dataframe thead th {\n",
       "        text-align: right;\n",
       "    }\n",
       "</style>\n",
       "<table border=\"1\" class=\"dataframe\">\n",
       "  <thead>\n",
       "    <tr style=\"text-align: right;\">\n",
       "      <th></th>\n",
       "      <th>feature1</th>\n",
       "      <th>feature2</th>\n",
       "      <th>feature3</th>\n",
       "      <th>feature4</th>\n",
       "      <th>label</th>\n",
       "    </tr>\n",
       "  </thead>\n",
       "  <tbody>\n",
       "    <tr>\n",
       "      <th>0</th>\n",
       "      <td>3.62160</td>\n",
       "      <td>8.6661</td>\n",
       "      <td>-2.8073</td>\n",
       "      <td>-0.44699</td>\n",
       "      <td>0</td>\n",
       "    </tr>\n",
       "    <tr>\n",
       "      <th>1</th>\n",
       "      <td>4.54590</td>\n",
       "      <td>8.1674</td>\n",
       "      <td>-2.4586</td>\n",
       "      <td>-1.46210</td>\n",
       "      <td>0</td>\n",
       "    </tr>\n",
       "    <tr>\n",
       "      <th>2</th>\n",
       "      <td>3.86600</td>\n",
       "      <td>-2.6383</td>\n",
       "      <td>1.9242</td>\n",
       "      <td>0.10645</td>\n",
       "      <td>0</td>\n",
       "    </tr>\n",
       "    <tr>\n",
       "      <th>3</th>\n",
       "      <td>3.45660</td>\n",
       "      <td>9.5228</td>\n",
       "      <td>-4.0112</td>\n",
       "      <td>-3.59440</td>\n",
       "      <td>0</td>\n",
       "    </tr>\n",
       "    <tr>\n",
       "      <th>4</th>\n",
       "      <td>0.32924</td>\n",
       "      <td>-4.4552</td>\n",
       "      <td>4.5718</td>\n",
       "      <td>-0.98880</td>\n",
       "      <td>0</td>\n",
       "    </tr>\n",
       "  </tbody>\n",
       "</table>\n",
       "</div>"
      ]
     },
     "execution_count": 72,
     "metadata": {},
     "output_type": "execute_result"
    }
   ],
   "execution_count": 72
  },
  {
   "metadata": {},
   "cell_type": "markdown",
   "source": "Результат показує, що дані успішно завантажені. Вони мають числові значення у стовпцях характеристик і бінарну цільову змінну (`label`), яка приймає значення `0` або `1`. Це підтверджує, що дані готові для подальшої обробки та навчання моделей.",
   "id": "ce7c2826206787d4"
  },
  {
   "metadata": {},
   "cell_type": "markdown",
   "source": [
    "### Розподіл даних на тренувальну та тестову вибірки\n",
    "На цьому етапі дані розділяються на характеристики (`X`) та цільову змінну (`y`). Потім використовується функція `train_test_split` для розділення датасету на тренувальну та тестову вибірки. Параметр `test_size=0.3` означає, що 30% даних буде використано для тестування моделі, а `random_state=42` забезпечує відтворюваність результатів."
   ],
   "id": "99e00e300d509c1c"
  },
  {
   "metadata": {
    "ExecuteTime": {
     "end_time": "2024-11-22T18:11:56.621499Z",
     "start_time": "2024-11-22T18:11:56.618454Z"
    }
   },
   "cell_type": "code",
   "source": [
    "# Split the data into features and target variable\n",
    "X = data[['feature1', 'feature2', 'feature3', 'feature4']]\n",
    "y = data['label']\n",
    "\n",
    "# Split into training and test sets\n",
    "X_train, X_test, y_train, y_test = train_test_split(X, y, test_size=0.3, random_state=42)\n"
   ],
   "id": "d7aa40547eb7caef",
   "outputs": [],
   "execution_count": 73
  },
  {
   "metadata": {},
   "cell_type": "markdown",
   "source": "Успішний результат виконання цього коду вказує, що дані розділені правильно. Отримано чотири масиви: `X_train` і `y_train` для навчання моделі, а також `X_test` і `y_test` для оцінки її точності. Це створює базу для побудови моделей машинного навчання.",
   "id": "f85f81f348e480b"
  },
  {
   "metadata": {},
   "cell_type": "markdown",
   "source": [
    "### Логістична регресія з функцією втрат Logistic Loss\n",
    "\n",
    "На цьому етапі реалізується модель логістичної регресії з функцією втрат Logistic Loss. Модель навчається на тренувальній вибірці (`X_train`, `y_train`), після чого на тестовій вибірці (`X_test`) обчислюються метрики точності та логарифмічної втрати.\n",
    "\n",
    "- **Точність (Accuracy):** Відсоток правильно передбачених класів.\n",
    "- **Log-Loss:** Логарифмічна функція втрат, яка є оцінкою якості ймовірностей, передбачених моделлю."
   ],
   "id": "9e46445976165b64"
  },
  {
   "metadata": {
    "ExecuteTime": {
     "end_time": "2024-11-22T18:11:56.650736Z",
     "start_time": "2024-11-22T18:11:56.643947Z"
    }
   },
   "cell_type": "code",
   "source": [
    "# Logistic regression with logistic loss\n",
    "logistic_model = LogisticRegression()\n",
    "logistic_model.fit(X_train, y_train)\n",
    "\n",
    "# Predictions and metrics\n",
    "y_pred_logistic = logistic_model.predict(X_test)\n",
    "logistic_accuracy = accuracy_score(y_test, y_pred_logistic)\n",
    "logistic_loss = log_loss(y_test, logistic_model.predict_proba(X_test))\n",
    "\n",
    "print(f\"Logistic Loss Accuracy: {logistic_accuracy:.2f}\")\n",
    "print(f\"Logistic Loss Log-Loss: {logistic_loss:.2f}\")\n"
   ],
   "id": "1c691d8ed9b00d3e",
   "outputs": [
    {
     "name": "stdout",
     "output_type": "stream",
     "text": [
      "Logistic Loss Accuracy: 0.99\n",
      "Logistic Loss Log-Loss: 0.03\n"
     ]
    }
   ],
   "execution_count": 74
  },
  {
   "metadata": {},
   "cell_type": "markdown",
   "source": [
    "Результати:\n",
    "\n",
    "- Точність моделі (Logistic Loss Accuracy) становить **0.99**, що вказує на майже ідеальну класифікацію на тестовій вибірці.\n",
    "- Логарифмічна втрата (Logistic Loss Log-Loss) становить **0.03**, що свідчить про високу якість передбачених ймовірностей. Це означає, що модель дуже добре справляється з класифікацією в даному випадку.\n"
   ],
   "id": "6ee9c46367b1294c"
  },
  {
   "metadata": {},
   "cell_type": "markdown",
   "source": [
    "### Реалізація моделі AdaBoost з функцією втрат SAMME\n",
    "На цьому етапі створюється модель AdaBoost із явним використанням алгоритму SAMME для уникнення попереджень. Модель навчається на тренувальній вибірці, а потім перевіряється на тестовій. Метрики оцінки включають:\n",
    "\n",
    "- **Точність (Accuracy):** Частка правильно класифікованих прикладів.\n",
    "- **Log-Loss:** Логарифмічна функція втрат для оцінки ймовірностей, які повертає модель."
   ],
   "id": "7026d73f9fa7674f"
  },
  {
   "metadata": {
    "ExecuteTime": {
     "end_time": "2024-11-22T18:12:28.550172Z",
     "start_time": "2024-11-22T18:12:28.499122Z"
    }
   },
   "cell_type": "code",
   "source": [
    "# AdaBoost Classifier with explicit SAMME algorithm to avoid warning\n",
    "adaboost_model = AdaBoostClassifier(n_estimators=50, random_state=42, algorithm=\"SAMME\")\n",
    "adaboost_model.fit(X_train, y_train)\n",
    "\n",
    "# Predictions and metrics\n",
    "y_pred_adaboost = adaboost_model.predict(X_test)\n",
    "adaboost_accuracy = accuracy_score(y_test, y_pred_adaboost)\n",
    "adaboost_loss = log_loss(y_test, adaboost_model.predict_proba(X_test))\n",
    "\n",
    "print(f\"AdaBoost Accuracy: {adaboost_accuracy:.2f}\")\n",
    "print(f\"AdaBoost Log-Loss: {adaboost_loss:.2f}\")\n"
   ],
   "id": "28459cc1678f0272",
   "outputs": [
    {
     "name": "stdout",
     "output_type": "stream",
     "text": [
      "AdaBoost Accuracy: 1.00\n",
      "AdaBoost Log-Loss: 0.46\n"
     ]
    }
   ],
   "execution_count": 77
  },
  {
   "metadata": {},
   "cell_type": "markdown",
   "source": [
    "Результати:\n",
    "- **Точність моделі AdaBoost (AdaBoost Accuracy):** становить **1.00**, що свідчить про ідеальну класифікацію на тестовій вибірці.\n",
    "- **Log-Loss:** дорівнює **0.46**, що показує дещо більшу невизначеність у ймовірностях порівняно з логістичною регресією.\n",
    "\n",
    "Загалом модель AdaBoost демонструє чудову точність, але трохи більші втрати порівняно з логістичною регресією."
   ],
   "id": "f5b69f82f6ce0e0e"
  },
  {
   "metadata": {},
   "cell_type": "markdown",
   "source": [
    "### Візуалізація кривих навчання логістичної регресії\n",
    "\n",
    "У цьому блоці коду ми створюємо функцію `plot_learning_curve`, яка будує графіки навчальних та тестових втрат (Log-Loss) залежно від кількості використаних для тренування даних. Основні моменти:\n",
    "\n",
    "1. **Логарифмічна функція втрат** (Log-Loss) обчислюється для тренувальної та тестової вибірок на різних підмножинах даних.\n",
    "2. Додається перевірка, щоб уникнути випадків, коли у тренувальних даних є тільки один клас, що викликає помилку.\n",
    "3. Графіки відображають, як змінюються втрати моделі в міру збільшення обсягу тренувальних даних.\n"
   ],
   "id": "71d6fa36effafc03"
  },
  {
   "metadata": {
    "ExecuteTime": {
     "end_time": "2024-11-22T18:13:10.936021Z",
     "start_time": "2024-11-22T18:13:09.170938Z"
    }
   },
   "cell_type": "code",
   "source": [
    "def plot_learning_curve(model, X_train, y_train, X_test, y_test, title):\n",
    "    train_losses = []\n",
    "    test_losses = []\n",
    "    for m in range(2, len(X_train)):  # Start from 2 to ensure there are enough samples\n",
    "        # Check if both classes are present in the subset\n",
    "        if len(np.unique(y_train[:m])) < 2:\n",
    "            continue  # Skip this iteration if only one class is present\n",
    "\n",
    "        model.fit(X_train[:m], y_train[:m])\n",
    "        train_pred = model.predict_proba(X_train[:m])[:, 1]\n",
    "        test_pred = model.predict_proba(X_test)[:, 1]\n",
    "\n",
    "        train_losses.append(log_loss(y_train[:m], train_pred))\n",
    "        test_losses.append(log_loss(y_test, test_pred))\n",
    "\n",
    "    plt.plot(train_losses, label='Train Loss')\n",
    "    plt.plot(test_losses, label='Test Loss')\n",
    "    plt.title(title)\n",
    "    plt.xlabel('Training Size')\n",
    "    plt.ylabel('Loss')\n",
    "    plt.legend()\n",
    "    plt.show()\n",
    "\n",
    "\n",
    "# Logistic Loss Learning Curve\n",
    "plot_learning_curve(LogisticRegression(), X_train.values, y_train.values, X_test.values, y_test.values,\n",
    "                    'Logistic Regression Loss')\n"
   ],
   "id": "23c7c90daff8affc",
   "outputs": [
    {
     "data": {
      "text/plain": [
       "<Figure size 640x480 with 1 Axes>"
      ],
      "image/png": "[encoded data removed]"
     },
     "metadata": {},
     "output_type": "display_data"
    }
   ],
   "execution_count": 78
  },
  {
   "metadata": {},
   "cell_type": "markdown",
   "source": [
    "Графік показує:\n",
    "\n",
    "- На початкових етапах тестові втрати (Test Loss) є вищими за тренувальні (Train Loss), але з часом вони зближуються.\n",
    "- І тренувальні, і тестові втрати стабілізуються, що вказує на хорошу узагальнюваність моделі на нових даних.\n",
    "- Загалом модель логістичної регресії демонструє високу ефективність, адже втрати дуже малі для обох вибірок.\n"
   ],
   "id": "71911873063aa8dc"
  },
  {
   "metadata": {},
   "cell_type": "markdown",
   "source": [
    "### Порівняння моделей\n",
    "\n",
    "У цьому блоці коду створюється таблиця для підсумовування основних метрик двох моделей: логістичної регресії з Logistic Loss та AdaBoost. Для кожної моделі розраховані:\n",
    "\n",
    "- **Точність (Accuracy):** Показує, яка частка передбачень була правильною.\n",
    "- **Log-Loss:** Оцінює якість ймовірностей, що прогнозуються моделлю, де менше значення вказує на більш точну модель.\n"
   ],
   "id": "21d5e44768bc2aea"
  },
  {
   "metadata": {
    "ExecuteTime": {
     "end_time": "2024-11-22T18:13:17.457605Z",
     "start_time": "2024-11-22T18:13:17.452947Z"
    }
   },
   "cell_type": "code",
   "source": [
    "# Summarize all accuracies\n",
    "results = pd.DataFrame({\n",
    "    'Model': ['Logistic Loss', 'Adaboost'],\n",
    "    'Accuracy': [logistic_accuracy, adaboost_accuracy],\n",
    "    'Log-Loss': [logistic_loss, adaboost_loss]\n",
    "})\n",
    "\n",
    "print(results)\n"
   ],
   "id": "ed4c4fa20364dfc3",
   "outputs": [
    {
     "name": "stdout",
     "output_type": "stream",
     "text": [
      "           Model  Accuracy  Log-Loss\n",
      "0  Logistic Loss  0.987864  0.027614\n",
      "1       Adaboost  0.997573  0.460175\n"
     ]
    }
   ],
   "execution_count": 79
  },
  {
   "metadata": {},
   "cell_type": "markdown",
   "source": [
    "Результати таблиці:\n",
    "\n",
    "1. **Logistic Loss:** Точність становить **0.9878**, а втрати **0.0276**. Модель демонструє високу точність і низькі втрати, що свідчить про її ефективність.\n",
    "2. **AdaBoost:** Точність злегка вища (**0.9976**), але втрати значно більші (**0.4602**), що свідчить про певну невизначеність у передбачуваних ймовірностях.\n",
    "\n",
    "Логістична регресія має кращу якість ймовірностей (низький Log-Loss), тоді як AdaBoost показує трохи вищу загальну точність. Вибір моделі залежить від контексту задачі: якщо важлива ймовірність передбачень, слід обрати Logistic Loss, якщо ж акцент на точності класифікації — AdaBoost.\n"
   ],
   "id": "d0bdc5bb1ccae9ba"
  },
  {
   "metadata": {},
   "cell_type": "markdown",
   "source": [
    "### Чому відсутній третій метод (Binary Crossentropy)?\n",
    "Binary Crossentropy — це функція втрат, яка використовується в задачах бінарної класифікації для оцінки розбіжності між прогнозованими ймовірностями та реальними значеннями. Формула виглядає наступним чином:\n",
    "\n",
    "$\n",
    "\\text{Binary Crossentropy Loss} = -\\frac{1}{N} \\sum_{i=1}^{N} \\left( y_i \\log(\\hat{y}_i) + (1 - y_i) \\log(1 - \\hat{y}_i) \\right)\n",
    "$\n",
    "\n",
    "#### Причини відсутності окремої реалізації:\n",
    "1. **Вбудованість у Logistic Regression:**\n",
    "   - У логістичній регресії Binary Crossentropy є базовою функцією втрат. Її вже використовує оптимізаційний процес під час навчання моделі. Тобто немає необхідності окремо її реалізовувати — вона автоматично враховується.\n",
    "\n",
    "2. **Обчислення через Log-Loss:**\n",
    "   - Log-Loss, який ми обчислюємо в моделі логістичної регресії, є саме функцією Binary Crossentropy. Ми можемо вважати, що цей метод вже був реалізований у логістичній регресії.\n",
    "\n",
    "3. **Не застосовується в AdaBoost:**\n",
    "   - У методі AdaBoost функція втрат відрізняється (зазвичай використовуються інші типи помилок, такі як експоненційна втрата). Тому Binary Crossentropy не є частиною цього методу.\n",
    "\n",
    "Третій метод, Binary Crossentropy, не був окремо реалізований, оскільки:\n",
    "- Його вже враховано в логістичній регресії.\n",
    "- Він не є релевантним для інших розглянутих моделей, таких як AdaBoost."
   ],
   "id": "5d94a1f46cd2f063"
  },
  {
   "metadata": {},
   "cell_type": "markdown",
   "source": "",
   "id": "3d31cfc9196eb13b"
  },
  {
   "metadata": {},
   "cell_type": "markdown",
   "source": [
    "## Висновок\n",
    "\n",
    "На цій лабораторній роботі я отримав знання і критерії застосування основних використовуваних у\n",
    "сучасному машинному навчанні функцій помилок (функцій втрат)."
   ],
   "id": "6ac58245cbd5ea6d"
  }
 ],
 "metadata": {
  "kernelspec": {
   "display_name": "Python 3",
   "language": "python",
   "name": "python3"
  },
  "language_info": {
   "codemirror_mode": {
    "name": "ipython",
    "version": 2
   },
   "file_extension": ".py",
   "mimetype": "text/x-python",
   "name": "python",
   "nbconvert_exporter": "python",
   "pygments_lexer": "ipython2",
   "version": "2.7.6"
  }
 },
 "nbformat": 4,
 "nbformat_minor": 5
}
